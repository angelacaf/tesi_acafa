{
 "cells": [
  {
   "cell_type": "code",
   "execution_count": null,
   "metadata": {},
   "outputs": [],
   "source": [
    "import argparse\n",
    "import math\n",
    "import os\n",
    "\n",
    "import cv2\n",
    "import matplotlib.pyplot as plt\n",
    "import matplotlib.patches as patches\n",
    "import nibabel as nib\n",
    "import numpy as np\n",
    "import pandas as pd\n",
    "import plotly.figure_factory as ff\n",
    "import scipy.io\n",
    "import imageio.v3 as iio\n",
    "from scipy.interpolate import CubicSpline\n",
    "from scipy.optimize import least_squares\n",
    "from scipy.signal import savgol_filter\n",
    "from skimage.feature import canny\n",
    "from tqdm import tqdm\n",
    "from vedo import Line, Plotter, Volume, show\n",
    "from scipy.spatial.distance import cdist\n",
    "from skimage import exposure\n",
    "from scipy.interpolate import splprep, splev\n",
    "from scipy.optimize import minimize\n",
    "from skimage.metrics import structural_similarity as ssim\n",
    "import numpy as np\n",
    "from skimage.metrics import structural_similarity as compare_ssim\n",
    "import torch\n",
    "import time\n",
    "from datetime import timedelta\n",
    "\n",
    "from core.tools import save_png\n",
    "from core.visualize import *\n",
    "from model.oral_3d import Oral3D\n",
    "from preprocess.arch_estimate import estimate_trajectory_by_dental_arch\n",
    "from preprocess.cbct_utils import *\n",
    "from preprocess.pre_defined_trajectories import estimate_trajectory_by_beta_function\n",
    "from preprocess.utils import get_MPR_images_from_projection_rays, get_projection_image_from_MPR_images\n",
    "from preprocess.utils import *\n",
    "from projection.basic import Point\n",
    "from projection.projection_ray import ProjectionRay\n",
    "from projection.trajectory import Trajectory\n",
    "from utils.eval import get_psnr, get_dice\n",
    "from utils.ssim import SSIM\n",
    "from utils.ssim import SSIM\n",
    "CANNY_LOW = 100\n",
    "CANNY_HIGH = 200\n"
   ]
  }
 ],
 "metadata": {
  "kernelspec": {
   "display_name": "tesi",
   "language": "python",
   "name": "python3"
  },
  "language_info": {
   "codemirror_mode": {
    "name": "ipython",
    "version": 3
   },
   "file_extension": ".py",
   "mimetype": "text/x-python",
   "name": "python",
   "nbconvert_exporter": "python",
   "pygments_lexer": "ipython3",
   "version": "3.10.16"
  }
 },
 "nbformat": 4,
 "nbformat_minor": 2
}
